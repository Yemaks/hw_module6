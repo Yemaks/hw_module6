{
 "cells": [
  {
   "cell_type": "markdown",
   "metadata": {
    "_uuid": "a603f52d84bce68c606a8ba684f08908e935d812"
   },
   "source": [
    "## Types of Text Summarization Methods\n",
    "\n",
    "![Imgur](https://i.imgur.com/J5KyMBJ.png)\n"
   ]
  },
  {
   "cell_type": "markdown",
   "metadata": {
    "_cell_guid": "79c7e3d0-c299-4dcb-8224-4455121ee9b0",
    "_uuid": "d629ff2d2480ee46fbb7e2d37f6b5fab8052498a",
    "collapsed": true,
    "trusted": false
   },
   "source": [
    "# Import Packages \n"
   ]
  },
  {
   "cell_type": "code",
   "execution_count": 1,
   "metadata": {
    "_kg_hide-input": true,
    "_uuid": "2860a7dca6861d4a750915c770365e06a1408ce2",
    "trusted": true
   },
   "outputs": [
    {
     "data": {
      "text/html": [
       "        <script type=\"text/javascript\">\n",
       "        window.PlotlyConfig = {MathJaxConfig: 'local'};\n",
       "        if (window.MathJax && window.MathJax.Hub && window.MathJax.Hub.Config) {window.MathJax.Hub.Config({SVG: {font: \"STIX-Web\"}});}\n",
       "        if (typeof require !== 'undefined') {\n",
       "        require.undef(\"plotly\");\n",
       "        requirejs.config({\n",
       "            paths: {\n",
       "                'plotly': ['https://cdn.plot.ly/plotly-2.25.2.min']\n",
       "            }\n",
       "        });\n",
       "        require(['plotly'], function(Plotly) {\n",
       "            window._Plotly = Plotly;\n",
       "        });\n",
       "        }\n",
       "        </script>\n",
       "        "
      ]
     },
     "metadata": {},
     "output_type": "display_data"
    }
   ],
   "source": [
    "import numpy as np\n",
    "import spacy\n",
    "import pandas as pd\n",
    "import seaborn as sns\n",
    "import matplotlib.pyplot as plt\n",
    "from wordcloud import WordCloud\n",
    "from IPython.display import display\n",
    "import base64\n",
    "import string\n",
    "import re\n",
    "from collections import Counter\n",
    "from time import time\n",
    "import nltk\n",
    "from nltk.corpus import stopwords\n",
    "stopwords = stopwords.words('english')\n",
    "import heapq\n",
    "import plotly.offline as py\n",
    "py.init_notebook_mode(connected=True)\n",
    "import plotly.graph_objs as go\n",
    "import plotly.tools as tls\n",
    "from gensim.models.doc2vec import TaggedDocument, Doc2Vec\n",
    "from nltk.tokenize import sent_tokenize, word_tokenize\n",
    "from sklearn.feature_extraction.text import TfidfVectorizer\n",
    "%matplotlib inline\n",
    "\n",
    "sns.set_context('notebook')"
   ]
  },
  {
   "cell_type": "markdown",
   "metadata": {
    "_uuid": "5e261260676c97cde87e171b9b049763740f63aa"
   },
   "source": [
    "# Import Dataset \n"
   ]
  },
  {
   "cell_type": "code",
   "execution_count": 2,
   "metadata": {
    "_kg_hide-input": true,
    "_uuid": "a53b6190504ccf397dd408b5882cfed485046b3e",
    "trusted": true
   },
   "outputs": [
    {
     "data": {
      "text/html": [
       "<div>\n",
       "<style scoped>\n",
       "    .dataframe tbody tr th:only-of-type {\n",
       "        vertical-align: middle;\n",
       "    }\n",
       "\n",
       "    .dataframe tbody tr th {\n",
       "        vertical-align: top;\n",
       "    }\n",
       "\n",
       "    .dataframe thead th {\n",
       "        text-align: right;\n",
       "    }\n",
       "</style>\n",
       "<table border=\"1\" class=\"dataframe\">\n",
       "  <thead>\n",
       "    <tr style=\"text-align: right;\">\n",
       "      <th></th>\n",
       "      <th>description</th>\n",
       "      <th>points</th>\n",
       "      <th>price</th>\n",
       "      <th>title</th>\n",
       "      <th>variety</th>\n",
       "    </tr>\n",
       "  </thead>\n",
       "  <tbody>\n",
       "    <tr>\n",
       "      <th>0</th>\n",
       "      <td>This is ripe and fruity, a wine that is smooth...</td>\n",
       "      <td>87</td>\n",
       "      <td>15.0</td>\n",
       "      <td>Quinta dos Avidagos 2011 Avidagos Red (Douro)</td>\n",
       "      <td>Portuguese Red</td>\n",
       "    </tr>\n",
       "    <tr>\n",
       "      <th>1</th>\n",
       "      <td>Tart and snappy, the flavors of lime flesh and...</td>\n",
       "      <td>87</td>\n",
       "      <td>14.0</td>\n",
       "      <td>Rainstorm 2013 Pinot Gris (Willamette Valley)</td>\n",
       "      <td>Pinot Gris</td>\n",
       "    </tr>\n",
       "    <tr>\n",
       "      <th>2</th>\n",
       "      <td>Pineapple rind, lemon pith and orange blossom ...</td>\n",
       "      <td>87</td>\n",
       "      <td>13.0</td>\n",
       "      <td>St. Julian 2013 Reserve Late Harvest Riesling ...</td>\n",
       "      <td>Riesling</td>\n",
       "    </tr>\n",
       "    <tr>\n",
       "      <th>3</th>\n",
       "      <td>Much like the regular bottling from 2012, this...</td>\n",
       "      <td>87</td>\n",
       "      <td>65.0</td>\n",
       "      <td>Sweet Cheeks 2012 Vintner's Reserve Wild Child...</td>\n",
       "      <td>Pinot Noir</td>\n",
       "    </tr>\n",
       "    <tr>\n",
       "      <th>4</th>\n",
       "      <td>Blackberry and raspberry aromas show a typical...</td>\n",
       "      <td>87</td>\n",
       "      <td>15.0</td>\n",
       "      <td>Tandem 2011 Ars In Vitro Tempranillo-Merlot (N...</td>\n",
       "      <td>Tempranillo-Merlot</td>\n",
       "    </tr>\n",
       "    <tr>\n",
       "      <th>5</th>\n",
       "      <td>Here's a bright, informal red that opens with ...</td>\n",
       "      <td>87</td>\n",
       "      <td>16.0</td>\n",
       "      <td>Terre di Giurfo 2013 Belsito Frappato (Vittoria)</td>\n",
       "      <td>Frappato</td>\n",
       "    </tr>\n",
       "    <tr>\n",
       "      <th>6</th>\n",
       "      <td>This dry and restrained wine offers spice in p...</td>\n",
       "      <td>87</td>\n",
       "      <td>24.0</td>\n",
       "      <td>Trimbach 2012 Gewurztraminer (Alsace)</td>\n",
       "      <td>Gewürztraminer</td>\n",
       "    </tr>\n",
       "    <tr>\n",
       "      <th>7</th>\n",
       "      <td>Savory dried thyme notes accent sunnier flavor...</td>\n",
       "      <td>87</td>\n",
       "      <td>12.0</td>\n",
       "      <td>Heinz Eifel 2013 Shine Gewürztraminer (Rheinhe...</td>\n",
       "      <td>Gewürztraminer</td>\n",
       "    </tr>\n",
       "    <tr>\n",
       "      <th>8</th>\n",
       "      <td>This has great depth of flavor with its fresh ...</td>\n",
       "      <td>87</td>\n",
       "      <td>27.0</td>\n",
       "      <td>Jean-Baptiste Adam 2012 Les Natures Pinot Gris...</td>\n",
       "      <td>Pinot Gris</td>\n",
       "    </tr>\n",
       "    <tr>\n",
       "      <th>9</th>\n",
       "      <td>Soft, supple plum envelopes an oaky structure ...</td>\n",
       "      <td>87</td>\n",
       "      <td>19.0</td>\n",
       "      <td>Kirkland Signature 2011 Mountain Cuvée Caberne...</td>\n",
       "      <td>Cabernet Sauvignon</td>\n",
       "    </tr>\n",
       "    <tr>\n",
       "      <th>10</th>\n",
       "      <td>This is a dry wine, very spicy, with a tight, ...</td>\n",
       "      <td>87</td>\n",
       "      <td>30.0</td>\n",
       "      <td>Leon Beyer 2012 Gewurztraminer (Alsace)</td>\n",
       "      <td>Gewürztraminer</td>\n",
       "    </tr>\n",
       "    <tr>\n",
       "      <th>11</th>\n",
       "      <td>Slightly reduced, this wine offers a chalky, t...</td>\n",
       "      <td>87</td>\n",
       "      <td>34.0</td>\n",
       "      <td>Louis M. Martini 2012 Cabernet Sauvignon (Alex...</td>\n",
       "      <td>Cabernet Sauvignon</td>\n",
       "    </tr>\n",
       "    <tr>\n",
       "      <th>12</th>\n",
       "      <td>Building on 150 years and six generations of w...</td>\n",
       "      <td>87</td>\n",
       "      <td>12.0</td>\n",
       "      <td>Mirassou 2012 Chardonnay (Central Coast)</td>\n",
       "      <td>Chardonnay</td>\n",
       "    </tr>\n",
       "    <tr>\n",
       "      <th>13</th>\n",
       "      <td>Zesty orange peels and apple notes abound in t...</td>\n",
       "      <td>87</td>\n",
       "      <td>24.0</td>\n",
       "      <td>Richard Böcking 2013 Devon Riesling (Mosel)</td>\n",
       "      <td>Riesling</td>\n",
       "    </tr>\n",
       "    <tr>\n",
       "      <th>14</th>\n",
       "      <td>Baked plum, molasses, balsamic vinegar and che...</td>\n",
       "      <td>87</td>\n",
       "      <td>30.0</td>\n",
       "      <td>Felix Lavaque 2010 Felix Malbec (Cafayate)</td>\n",
       "      <td>Malbec</td>\n",
       "    </tr>\n",
       "  </tbody>\n",
       "</table>\n",
       "</div>"
      ],
      "text/plain": [
       "                                          description  points  price  \\\n",
       "0   This is ripe and fruity, a wine that is smooth...      87   15.0   \n",
       "1   Tart and snappy, the flavors of lime flesh and...      87   14.0   \n",
       "2   Pineapple rind, lemon pith and orange blossom ...      87   13.0   \n",
       "3   Much like the regular bottling from 2012, this...      87   65.0   \n",
       "4   Blackberry and raspberry aromas show a typical...      87   15.0   \n",
       "5   Here's a bright, informal red that opens with ...      87   16.0   \n",
       "6   This dry and restrained wine offers spice in p...      87   24.0   \n",
       "7   Savory dried thyme notes accent sunnier flavor...      87   12.0   \n",
       "8   This has great depth of flavor with its fresh ...      87   27.0   \n",
       "9   Soft, supple plum envelopes an oaky structure ...      87   19.0   \n",
       "10  This is a dry wine, very spicy, with a tight, ...      87   30.0   \n",
       "11  Slightly reduced, this wine offers a chalky, t...      87   34.0   \n",
       "12  Building on 150 years and six generations of w...      87   12.0   \n",
       "13  Zesty orange peels and apple notes abound in t...      87   24.0   \n",
       "14  Baked plum, molasses, balsamic vinegar and che...      87   30.0   \n",
       "\n",
       "                                                title             variety  \n",
       "0       Quinta dos Avidagos 2011 Avidagos Red (Douro)      Portuguese Red  \n",
       "1       Rainstorm 2013 Pinot Gris (Willamette Valley)          Pinot Gris  \n",
       "2   St. Julian 2013 Reserve Late Harvest Riesling ...            Riesling  \n",
       "3   Sweet Cheeks 2012 Vintner's Reserve Wild Child...          Pinot Noir  \n",
       "4   Tandem 2011 Ars In Vitro Tempranillo-Merlot (N...  Tempranillo-Merlot  \n",
       "5    Terre di Giurfo 2013 Belsito Frappato (Vittoria)            Frappato  \n",
       "6               Trimbach 2012 Gewurztraminer (Alsace)      Gewürztraminer  \n",
       "7   Heinz Eifel 2013 Shine Gewürztraminer (Rheinhe...      Gewürztraminer  \n",
       "8   Jean-Baptiste Adam 2012 Les Natures Pinot Gris...          Pinot Gris  \n",
       "9   Kirkland Signature 2011 Mountain Cuvée Caberne...  Cabernet Sauvignon  \n",
       "10            Leon Beyer 2012 Gewurztraminer (Alsace)      Gewürztraminer  \n",
       "11  Louis M. Martini 2012 Cabernet Sauvignon (Alex...  Cabernet Sauvignon  \n",
       "12           Mirassou 2012 Chardonnay (Central Coast)          Chardonnay  \n",
       "13        Richard Böcking 2013 Devon Riesling (Mosel)            Riesling  \n",
       "14         Felix Lavaque 2010 Felix Malbec (Cafayate)              Malbec  "
      ]
     },
     "execution_count": 2,
     "metadata": {},
     "output_type": "execute_result"
    }
   ],
   "source": [
    "reviews = pd.read_csv(\"../data/wine_reviews.csv\", usecols =['points', 'title', 'description', 'variety', 'price'], encoding='utf-8')\n",
    "reviews = reviews.dropna()\n",
    "reviews.reset_index(drop=True, inplace=True)\n",
    "reviews.head(15)"
   ]
  },
  {
   "cell_type": "markdown",
   "metadata": {
    "_uuid": "489093d68a8c094167a77cdb7479c184b3e20e87",
    "trusted": true
   },
   "source": [
    "# Text preprocessing"
   ]
  },
  {
   "cell_type": "code",
   "execution_count": 3,
   "metadata": {
    "_kg_hide-input": true,
    "_kg_hide-output": false,
    "_uuid": "25fd7f9ae5fa5ca3efe698e99ba8e1631f7121a6",
    "trusted": true
   },
   "outputs": [],
   "source": [
    "# !python -m spacy download en_core_web_lg\n",
    "nlp = spacy.load('en_core_web_lg')\n",
    "def normalize_text(text):\n",
    "    tm1 = re.sub('<pre>.*?</pre>', '', text, flags=re.DOTALL)\n",
    "    # tm2 = re.sub('<code>.*?</code>', '', tm1, flags=re.DOTALL)\n",
    "    tm3 = re.sub('<[^>]+>©', '', tm1, flags=re.DOTALL)\n",
    "    return tm3.replace(\"\\n\", \"\")"
   ]
  },
  {
   "cell_type": "code",
   "execution_count": 4,
   "metadata": {
    "_kg_hide-input": true,
    "_uuid": "a69744aafbd96fad87b1433c0cd3d40fbd4f04d2",
    "trusted": true
   },
   "outputs": [],
   "source": [
    "reviews['description_normalized'] = reviews['description'].apply(normalize_text)"
   ]
  },
  {
   "cell_type": "code",
   "execution_count": 5,
   "metadata": {
    "_kg_hide-input": true,
    "_uuid": "d38a9fb0751391660bc33de4431ef2f2c521606b",
    "trusted": true
   },
   "outputs": [
    {
     "name": "stdout",
     "output_type": "stream",
     "text": [
      "Before normalizing text-----\n",
      "\n",
      "Pineapple rind, lemon pith and orange blossom start off the aromas. The palate is a bit more opulent, with notes of honey-drizzled guava and mango giving way to a slightly astringent, semidry finish.\n",
      "\n",
      "After normalizing text-----\n",
      "\n",
      "Pineapple rind, lemon pith and orange blossom start off the aromas. The palate is a bit more opulent, with notes of honey-drizzled guava and mango giving way to a slightly astringent, semidry finish.\n"
     ]
    }
   ],
   "source": [
    "print('Before normalizing text-----\\n')\n",
    "print(reviews['description'][2])\n",
    "print('\\nAfter normalizing text-----\\n')\n",
    "print(reviews['description_normalized'][2])"
   ]
  },
  {
   "cell_type": "markdown",
   "metadata": {
    "_uuid": "0875039d74a5dc0636bbfb2eb93efcf7278c1f47"
   },
   "source": [
    "Ваши методы, подумайте до конца ли вы почистили датасет"
   ]
  },
  {
   "cell_type": "code",
   "execution_count": 6,
   "metadata": {
    "_kg_hide-input": true,
    "_uuid": "64f118a88d5c7fb5fcf276f017fe6318b8b7c45e",
    "trusted": true
   },
   "outputs": [],
   "source": [
    "punctuations = '!\"#$%&\\'()*+,-/:;<=>?@[\\\\]^_`{|}~©'\n",
    "# Define function to cleanup text by removing personal pronouns, stopwords, and puncuation\n",
    "def cleanup_text(docs, logging=False):\n",
    "    texts = []\n",
    "    doc = nlp(docs, disable=['parser', 'ner'])\n",
    "    tokens = [tok.lemma_.lower().strip() for tok in doc if tok.lemma_ != '-PRON-']\n",
    "    tokens = [tok for tok in tokens if tok not in stopwords and tok not in punctuations]\n",
    "    tokens = ' '.join(tokens)\n",
    "    texts.append(tokens)\n",
    "    return pd.Series(texts)"
   ]
  },
  {
   "cell_type": "code",
   "execution_count": 7,
   "metadata": {},
   "outputs": [
    {
     "name": "stderr",
     "output_type": "stream",
     "text": [
      "/var/folders/4b/stlnv2vs1s7b478q3vvcqf_h0000gn/T/ipykernel_9159/2420711238.py:1: FutureWarning:\n",
      "\n",
      "Returning a DataFrame from Series.apply when the supplied function returns a Series is deprecated and will be removed in a future version.\n",
      "\n"
     ]
    }
   ],
   "source": [
    "reviews['description_cleaned'] = reviews['description_normalized'].apply(lambda x: cleanup_text(x, False))"
   ]
  },
  {
   "cell_type": "code",
   "execution_count": 8,
   "metadata": {
    "_uuid": "e9d814a5a03b4063b9e67efc2c6cf330ec8fc443",
    "trusted": true
   },
   "outputs": [
    {
     "name": "stdout",
     "output_type": "stream",
     "text": [
      "Reviews description with punctuatin and stopwords---\n",
      "\n",
      "This is ripe and fruity, a wine that is smooth while still structured. Firm tannins are filled out with juicy red berry fruits and freshened with acidity. It's  already drinkable, although it will certainly be better from 2016.\n",
      "\n",
      "Reviews description after removing punctuation and stopwrods---\n",
      "\n",
      "ripe fruity wine smooth still structure . firm tannin fill juicy red berry fruit freshen acidity . already drinkable although certainly well 2016 .\n"
     ]
    }
   ],
   "source": [
    "print('Reviews description with punctuatin and stopwords---\\n')\n",
    "print(reviews['description_normalized'][0])\n",
    "print('\\nReviews description after removing punctuation and stopwrods---\\n')\n",
    "print(reviews['description_cleaned'][0])"
   ]
  },
  {
   "cell_type": "markdown",
   "metadata": {
    "_uuid": "4a925e4a30c7ace8cb844ddbbadb0bd2a848f596"
   },
   "source": [
    "# Distribution of Points"
   ]
  },
  {
   "cell_type": "code",
   "execution_count": null,
   "metadata": {
    "_kg_hide-input": true,
    "_uuid": "e981d5761ded4aea90b302aa0cb0d6ac9ed7c27a",
    "trusted": true
   },
   "outputs": [],
   "source": []
  },
  {
   "cell_type": "markdown",
   "metadata": {
    "_uuid": "1642a971b3a627e10884a150714963ef2333e72b"
   },
   "source": [
    "# Analyze reviews description"
   ]
  },
  {
   "cell_type": "code",
   "execution_count": null,
   "metadata": {
    "_kg_hide-input": true,
    "_uuid": "e68dde499af6efa3a8a942b362b8b095a7fcace1",
    "trusted": true
   },
   "outputs": [],
   "source": []
  },
  {
   "cell_type": "markdown",
   "metadata": {
    "_uuid": "7f24b07ce1634f1a568f67bb6fd4a881c12fa113"
   },
   "source": [
    "Pipeline for summary using spacy or gensim:\n",
    "\n",
    "### 1 Convert Paragraphs to Sentences\n",
    "\n",
    "### 2 Text Preprocessing\n",
    "\n",
    "### 3 Tokenizing the Sentences\n",
    "\n",
    "### 4 Find Weighted Frequency of Occurrence\n",
    "\n",
    "### 5 Replace Words by Weighted Frequency in Original Sentences\n",
    "\n",
    "### 6 Sort Sentences in Descending Order of Sum"
   ]
  },
  {
   "cell_type": "code",
   "execution_count": 9,
   "metadata": {
    "_kg_hide-input": true,
    "_uuid": "231232c4be343eb6c6812ca26069bc437c422be8",
    "trusted": true
   },
   "outputs": [],
   "source": [
    "def generate_summary(cleaned_text, text_without_removing_dot=None):\n",
    "    tfidf_vectorizer = TfidfVectorizer()\n",
    "\n",
    "    sentences = sent_tokenize(cleaned_text)\n",
    "\n",
    "    tfidf_matrix = tfidf_vectorizer.fit_transform(sentences)\n",
    "    scores = tfidf_matrix.toarray().sum(axis=0)\n",
    "    ranked_sentences = sorted(((scores[i], sentence) for i, sentence in enumerate(sentences)), reverse=True)\n",
    "    summary_sentences = [sentence for score, sentence in ranked_sentences[:3]]\n",
    "\n",
    "    original_sentences = [sentences[sentences.index(summary_sentence)] for summary_sentence in summary_sentences]\n",
    "\n",
    "    summary = ' '.join(original_sentences)\n",
    "    return summary\n",
    "\n",
    "    # print(\"\\nOriginal Text:\\n\")\n",
    "    # print(text_without_removing_dot)\n",
    "    # print('\\n\\nSummarized text:\\n')\n",
    "    # print(summary)"
   ]
  },
  {
   "cell_type": "code",
   "execution_count": 10,
   "metadata": {},
   "outputs": [],
   "source": [
    "summarization = []\n",
    "for i in range(reviews.shape[0]):\n",
    "    summarization.append(generate_summary(reviews['description_cleaned'][i]))\n",
    "\n",
    "reviews['summary'] = summarization\n",
    "reviews['summary'] = reviews['summary'].astype(str)\n",
    "reviews.to_csv(\"../data/wine_reviews_with_summary.csv\", encoding='utf-8')"
   ]
  },
  {
   "cell_type": "code",
   "execution_count": 11,
   "metadata": {},
   "outputs": [],
   "source": [
    "reviews_with_summary = pd.read_csv(\"../data/wine_reviews_with_summary.csv\", index_col=0, encoding='utf-8')\n",
    "reviews_with_summary['summary'] = reviews_with_summary['summary'].astype(str)"
   ]
  },
  {
   "cell_type": "code",
   "execution_count": 12,
   "metadata": {},
   "outputs": [
    {
     "data": {
      "text/html": [
       "<div>\n",
       "<style scoped>\n",
       "    .dataframe tbody tr th:only-of-type {\n",
       "        vertical-align: middle;\n",
       "    }\n",
       "\n",
       "    .dataframe tbody tr th {\n",
       "        vertical-align: top;\n",
       "    }\n",
       "\n",
       "    .dataframe thead th {\n",
       "        text-align: right;\n",
       "    }\n",
       "</style>\n",
       "<table border=\"1\" class=\"dataframe\">\n",
       "  <thead>\n",
       "    <tr style=\"text-align: right;\">\n",
       "      <th></th>\n",
       "      <th>description</th>\n",
       "      <th>points</th>\n",
       "      <th>price</th>\n",
       "      <th>title</th>\n",
       "      <th>variety</th>\n",
       "      <th>description_normalized</th>\n",
       "      <th>description_cleaned</th>\n",
       "      <th>summary</th>\n",
       "    </tr>\n",
       "  </thead>\n",
       "  <tbody>\n",
       "    <tr>\n",
       "      <th>0</th>\n",
       "      <td>This is ripe and fruity, a wine that is smooth...</td>\n",
       "      <td>87</td>\n",
       "      <td>15.0</td>\n",
       "      <td>Quinta dos Avidagos 2011 Avidagos Red (Douro)</td>\n",
       "      <td>Portuguese Red</td>\n",
       "      <td>This is ripe and fruity, a wine that is smooth...</td>\n",
       "      <td>ripe fruity wine smooth still structure . firm...</td>\n",
       "      <td>ripe fruity wine smooth still structure . alre...</td>\n",
       "    </tr>\n",
       "    <tr>\n",
       "      <th>1</th>\n",
       "      <td>Tart and snappy, the flavors of lime flesh and...</td>\n",
       "      <td>87</td>\n",
       "      <td>14.0</td>\n",
       "      <td>Rainstorm 2013 Pinot Gris (Willamette Valley)</td>\n",
       "      <td>Pinot Gris</td>\n",
       "      <td>Tart and snappy, the flavors of lime flesh and...</td>\n",
       "      <td>tart snappy flavor lime flesh rind dominate . ...</td>\n",
       "      <td>wine stainless steel ferment . tart snappy fla...</td>\n",
       "    </tr>\n",
       "    <tr>\n",
       "      <th>2</th>\n",
       "      <td>Pineapple rind, lemon pith and orange blossom ...</td>\n",
       "      <td>87</td>\n",
       "      <td>13.0</td>\n",
       "      <td>St. Julian 2013 Reserve Late Harvest Riesling ...</td>\n",
       "      <td>Riesling</td>\n",
       "      <td>Pineapple rind, lemon pith and orange blossom ...</td>\n",
       "      <td>pineapple rind lemon pith orange blossom start...</td>\n",
       "      <td>pineapple rind lemon pith orange blossom start...</td>\n",
       "    </tr>\n",
       "    <tr>\n",
       "      <th>3</th>\n",
       "      <td>Much like the regular bottling from 2012, this...</td>\n",
       "      <td>87</td>\n",
       "      <td>65.0</td>\n",
       "      <td>Sweet Cheeks 2012 Vintner's Reserve Wild Child...</td>\n",
       "      <td>Pinot Noir</td>\n",
       "      <td>Much like the regular bottling from 2012, this...</td>\n",
       "      <td>much like regular bottling 2012 come across ra...</td>\n",
       "      <td>nonetheless think pleasantly unfussy country w...</td>\n",
       "    </tr>\n",
       "    <tr>\n",
       "      <th>4</th>\n",
       "      <td>Blackberry and raspberry aromas show a typical...</td>\n",
       "      <td>87</td>\n",
       "      <td>15.0</td>\n",
       "      <td>Tandem 2011 Ars In Vitro Tempranillo-Merlot (N...</td>\n",
       "      <td>Tempranillo-Merlot</td>\n",
       "      <td>Blackberry and raspberry aromas show a typical...</td>\n",
       "      <td>blackberry raspberry aroma show typical navarr...</td>\n",
       "      <td>blackberry raspberry aroma show typical navarr...</td>\n",
       "    </tr>\n",
       "  </tbody>\n",
       "</table>\n",
       "</div>"
      ],
      "text/plain": [
       "                                         description  points  price  \\\n",
       "0  This is ripe and fruity, a wine that is smooth...      87   15.0   \n",
       "1  Tart and snappy, the flavors of lime flesh and...      87   14.0   \n",
       "2  Pineapple rind, lemon pith and orange blossom ...      87   13.0   \n",
       "3  Much like the regular bottling from 2012, this...      87   65.0   \n",
       "4  Blackberry and raspberry aromas show a typical...      87   15.0   \n",
       "\n",
       "                                               title             variety  \\\n",
       "0      Quinta dos Avidagos 2011 Avidagos Red (Douro)      Portuguese Red   \n",
       "1      Rainstorm 2013 Pinot Gris (Willamette Valley)          Pinot Gris   \n",
       "2  St. Julian 2013 Reserve Late Harvest Riesling ...            Riesling   \n",
       "3  Sweet Cheeks 2012 Vintner's Reserve Wild Child...          Pinot Noir   \n",
       "4  Tandem 2011 Ars In Vitro Tempranillo-Merlot (N...  Tempranillo-Merlot   \n",
       "\n",
       "                              description_normalized  \\\n",
       "0  This is ripe and fruity, a wine that is smooth...   \n",
       "1  Tart and snappy, the flavors of lime flesh and...   \n",
       "2  Pineapple rind, lemon pith and orange blossom ...   \n",
       "3  Much like the regular bottling from 2012, this...   \n",
       "4  Blackberry and raspberry aromas show a typical...   \n",
       "\n",
       "                                 description_cleaned  \\\n",
       "0  ripe fruity wine smooth still structure . firm...   \n",
       "1  tart snappy flavor lime flesh rind dominate . ...   \n",
       "2  pineapple rind lemon pith orange blossom start...   \n",
       "3  much like regular bottling 2012 come across ra...   \n",
       "4  blackberry raspberry aroma show typical navarr...   \n",
       "\n",
       "                                             summary  \n",
       "0  ripe fruity wine smooth still structure . alre...  \n",
       "1  wine stainless steel ferment . tart snappy fla...  \n",
       "2  pineapple rind lemon pith orange blossom start...  \n",
       "3  nonetheless think pleasantly unfussy country w...  \n",
       "4  blackberry raspberry aroma show typical navarr...  "
      ]
     },
     "execution_count": 12,
     "metadata": {},
     "output_type": "execute_result"
    }
   ],
   "source": [
    "reviews_with_summary.head(5)"
   ]
  },
  {
   "cell_type": "code",
   "execution_count": 17,
   "metadata": {},
   "outputs": [],
   "source": [
    "tagged_data = [TaggedDocument(words=word_tokenize(_w.lower()), tags=[str(i)]) for i, _w in enumerate(reviews_with_summary.summary)]"
   ]
  },
  {
   "cell_type": "code",
   "execution_count": 22,
   "metadata": {},
   "outputs": [
    {
     "name": "stdout",
     "output_type": "stream",
     "text": [
      "Iteration 0\n",
      "Iteration 1\n",
      "Iteration 2\n",
      "Iteration 3\n",
      "Iteration 4\n",
      "Model Saved\n"
     ]
    }
   ],
   "source": [
    "max_epochs = 5\n",
    "vec_size = 20\n",
    "alpha = 0.07\n",
    "\n",
    "model = Doc2Vec(vector_size=vec_size, alpha=alpha, min_alpha=0.00025, min_count=1, dm=1)\n",
    "  \n",
    "model.build_vocab(tagged_data)\n",
    "\n",
    "for epoch in range(max_epochs):\n",
    "    if epoch % 1 == 0:\n",
    "        print('Iteration {0}'.format(epoch))\n",
    "    model.train(tagged_data, total_examples=model.corpus_count, epochs=model.epochs)\n",
    "    # decrease the learning rate\n",
    "    model.alpha -= 0.002\n",
    "    # fix the learning rate, no decay\n",
    "    model.min_alpha = model.alpha\n",
    "\n",
    "model.save(\"../models/d2v.model\")\n",
    "print(\"Model Saved\")"
   ]
  },
  {
   "cell_type": "code",
   "execution_count": 25,
   "metadata": {},
   "outputs": [
    {
     "name": "stdout",
     "output_type": "stream",
     "text": [
      "The most suitable wines according to the description:\n",
      "\n",
      "Vine title: Quinta dos Avidagos 2011 Avidagos Red (Douro), vine variety: Portuguese Red, WineEnthusiast points: 87. Coincidence: 97.15%.\n",
      "Vine title: Maison Malet Roquefort 2011 Léo de la Gaffelière  (Bordeaux), vine variety: Bordeaux-style Red Blend, WineEnthusiast points: 88. Coincidence: 93.79%.\n",
      "Vine title: Quevedo 2014 Claudia's Red (Douro), vine variety: Portuguese Red, WineEnthusiast points: 88. Coincidence: 92.42%.\n",
      "Vine title: Château Suau 2015  Bordeaux Blanc, vine variety: Bordeaux-style White Blend, WineEnthusiast points: 84. Coincidence: 91.57%.\n",
      "Vine title: Casa Santos Lima 2014 Lab Reserva Red (Lisboa), vine variety: Portuguese Red, WineEnthusiast points: 87. Coincidence: 90.53%.\n"
     ]
    }
   ],
   "source": [
    "model_downloaded = Doc2Vec.load(\"../models/d2v.model\")\n",
    "\n",
    "#to find the vector of a document which is not in training data\n",
    "test_data = word_tokenize(generate_summary(cleanup_text(normalize_text('This is ripe and fruity, a wine that is smooth while still structured. Firm tannins are filled out with juicy red berry fruits and freshened with acidity. Its  already drinkable, although it will certainly be better from 2016'))[0]))\n",
    "test_data_vec = model_downloaded.infer_vector(test_data)\n",
    "sims = model_downloaded.dv.most_similar([test_data_vec], topn=len(model_downloaded.dv))\n",
    "print('The most suitable wines according to the description:\\n')\n",
    "for i in range(5):\n",
    "    index = int(sims[i][0])\n",
    "    acc = float(sims[i][1]) * 100\n",
    "    print(f\"Vine title: {reviews_with_summary['title'][index]}, vine variety: {reviews_with_summary['variety'][index]}\"\n",
    "          f\", WineEnthusiast points: {reviews_with_summary['points'][index]:.0f}. Coincidence: {acc:.2f}%.\")"
   ]
  },
  {
   "cell_type": "code",
   "execution_count": null,
   "metadata": {},
   "outputs": [],
   "source": []
  }
 ],
 "metadata": {
  "kernelspec": {
   "display_name": "Python 3",
   "language": "python",
   "name": "python3"
  },
  "language_info": {
   "codemirror_mode": {
    "name": "ipython",
    "version": 3
   },
   "file_extension": ".py",
   "mimetype": "text/x-python",
   "name": "python",
   "nbconvert_exporter": "python",
   "pygments_lexer": "ipython3",
   "version": "3.11.4"
  }
 },
 "nbformat": 4,
 "nbformat_minor": 1
}
