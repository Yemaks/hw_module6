{
 "cells": [
  {
   "cell_type": "markdown",
   "metadata": {},
   "source": [
    "#### **Задание 1 (0.5 поинтов для домашнего задания)**\n",
    "1. Преобразуйте с помощью $tf-idf$ на все вектора из вашего сформированного корпуса (любого, создайте на выбор либо воспользуйтесь любыми текстами из датасета bbc по определенной тематике) и создайте новый индекс\n",
    "2. Преобразуйте вектор запроса с помощью $tf-idf$\n",
    "3. Как вычисляются $idf$ веса в векторе запроса?\n",
    "4. Повторите поиск по запросу после $tf-idf$  преобразования"
   ]
  },
  {
   "cell_type": "code",
   "execution_count": 165,
   "metadata": {},
   "outputs": [],
   "source": [
    "import re\n",
    "from gensim import models, corpora, similarities\n",
    "from nltk.corpus import stopwords\n",
    "from collections import defaultdict\n",
    "\n",
    "from pprint import pprint"
   ]
  },
  {
   "cell_type": "markdown",
   "metadata": {},
   "source": [
    "##### Читаем документ препроцессим его, удаляя все лишнее"
   ]
  },
  {
   "cell_type": "code",
   "execution_count": 166,
   "metadata": {},
   "outputs": [],
   "source": [
    "text = ''\n",
    "for i in range(1, 417):\n",
    "    file = open('politics/'f'{i:03}''.txt', 'r')\n",
    "    text += file.read()\n",
    "    file.close()\n",
    "text = text.replace('\\n\\n', '\\n')\n",
    "text_list = text.split('\\n')[:-1]"
   ]
  },
  {
   "cell_type": "code",
   "execution_count": 167,
   "metadata": {},
   "outputs": [],
   "source": [
    "for i in range(len(text_list)):\n",
    "    text_list[i] = text_list[i].lower()\n",
    "    text_list[i] = re.sub('[^a-z ]', ' ', text_list[i])\n",
    "    text_list[i] = re.sub('\\s+', ' ', text_list[i])"
   ]
  },
  {
   "cell_type": "code",
   "execution_count": 168,
   "metadata": {},
   "outputs": [],
   "source": [
    "stopwords = set(stopwords.words('english'))\n",
    "\n",
    "texts = [[word for word in text_line.split() if word not in stopwords] for text_line in text_list]"
   ]
  },
  {
   "cell_type": "markdown",
   "metadata": {},
   "source": [
    "##### Формируем словарь для данного текста и векторный корпус. После применяем $tf-idf$ преобразование на корпус текста"
   ]
  },
  {
   "cell_type": "code",
   "execution_count": 169,
   "metadata": {},
   "outputs": [],
   "source": [
    "dictionary = corpora.Dictionary(texts)\n",
    "\n",
    "corpus = [dictionary.doc2bow(text) for text in texts]\n",
    "\n",
    "tfidf = models.TfidfModel(corpus)"
   ]
  },
  {
   "cell_type": "markdown",
   "metadata": {},
   "source": [
    "##### Формируем запрос, а также векторное его представление и $tf-idf$ представление"
   ]
  },
  {
   "cell_type": "code",
   "execution_count": 170,
   "metadata": {},
   "outputs": [
    {
     "name": "stdout",
     "output_type": "stream",
     "text": [
      "[(1460, 1), (5610, 1)]\n",
      "[(1460, 0.45049967900009263), (5610, 0.892776589758498)]\n"
     ]
    }
   ],
   "source": [
    "q = \"human computer interaction\"\n",
    "vec = dictionary.doc2bow(q.lower().split())\n",
    "print(vec)\n",
    "print(tfidf[vec])\n",
    "vec_tf = tfidf[vec]"
   ]
  },
  {
   "cell_type": "code",
   "execution_count": 171,
   "metadata": {},
   "outputs": [],
   "source": [
    "index = similarities.MatrixSimilarity(corpus)\n",
    "index_tf = similarities.MatrixSimilarity(tfidf[corpus])"
   ]
  },
  {
   "cell_type": "markdown",
   "metadata": {},
   "source": [
    "##### Ищем максимально похожие строки в документе"
   ]
  },
  {
   "cell_type": "code",
   "execution_count": 172,
   "metadata": {},
   "outputs": [
    {
     "name": "stdout",
     "output_type": "stream",
     "text": [
      "Q: human computer interaction\n",
      "doc 1711 ms khan highlighted detentions without trial including those at the us camp at guantanamo bay in cuba and the abuse of prisoners as evidence of increasing human rights problems what s a new challenge is the way in which this age old debate on security and human rights has been translated into the language of war she said by using the language of war human rights are being sidelined because we know human rights do not apply in times of war ms khan said such breaches were infectious and were now seen in almost very major country in the world the human rights movement faces a crisis of faith in the value of human rights she said that was accompanied by a crisis of governance where the united nations system did not seem able to hold countries to account  0.3407771\n",
      "doc 2484 liberal democrat spokesman mark oaten also backed use of wire tap evidence he said the standard of proof for the new powers would have to be very high indeed and he asked whether ministers had looked at measures which fitted with human rights laws shami chakrabarti from human rights group liberty joined calls for intercept evidence to be allowed in trials she said adherence to the rule of law should not be a game of cat and mouse the government should not swap one human rights opt out for another  0.25354627\n",
      "doc 2643  since the beginning of this year election year we ve been making the political weather he told the party conference mr howard denied he had been playing politics by raising the case of margaret dixon whose operation had been cancelled seven times which grabbed headlines for the party two weeks ago and he hit back at labour claims he had used mrs dixon as a human shield she s not a human shield mr blair she s a human being mr howard said his party plans for immigration quotas which have also been the focus of much media coverage were not racist just common sense  0.22874784\n",
      "doc 1712 the amnesty secretary general said a growing gap between the perceived influence of human rights group and what they could actually achieve was fuelling scepticism public passivity on the war against terror is the single most powerful indictment on the failures of human rights groups she said ms khan said the movement had failed to mobilise public outrage about what was happening to the human rights system there needed to be a drive to use simpler language talking about the basic morality of the issues rather than the complexity of legal processes such efforts could make the issues more relevant to people across the world she said  0.22116293\n",
      "doc 1710 in a lecture at the london school of economics irene khan said human rights had been flouted in the name of security since september she said the human rights movement had to use simpler language both to prevent scepticism and spread a moral message and it had to fight poverty not just focus on political rights for elites  0.2182179\n",
      "----------------------------------------------------------------------------------------------------------------------------------------------------------------------------------------------------------------------------------------------------------------------------------------------------------------------------------------------------\n",
      "doc 948 both men were giving evidence to a commons committee on the computer difficulties facing the agency which left thousands of single parents without any maintenance payments when the announcement was made the knighting of sir john will be received with astonishment by opposition politicians  0.2527566\n",
      "doc 1711 ms khan highlighted detentions without trial including those at the us camp at guantanamo bay in cuba and the abuse of prisoners as evidence of increasing human rights problems what s a new challenge is the way in which this age old debate on security and human rights has been translated into the language of war she said by using the language of war human rights are being sidelined because we know human rights do not apply in times of war ms khan said such breaches were infectious and were now seen in almost very major country in the world the human rights movement faces a crisis of faith in the value of human rights she said that was accompanied by a crisis of governance where the united nations system did not seem able to hold countries to account  0.1875568\n",
      "doc 702 the committee reached its conclusions after it found that nearly cases have yet to be processed it warned that it could be five years before the csa was fit for purpose describing it as a failing organisation and in crisis with parents facing payment delays and inaccurate maintenance calculations the report urged the csa to draw up contingency plans including the abandonment option to be presented to parliament by easter in case the cs computer system could not be made to work  0.17322332\n",
      "doc 2484 liberal democrat spokesman mark oaten also backed use of wire tap evidence he said the standard of proof for the new powers would have to be very high indeed and he asked whether ministers had looked at measures which fitted with human rights laws shami chakrabarti from human rights group liberty joined calls for intercept evidence to be allowed in trials she said adherence to the rule of law should not be a game of cat and mouse the government should not swap one human rights opt out for another  0.13018784\n",
      "doc 2643  since the beginning of this year election year we ve been making the political weather he told the party conference mr howard denied he had been playing politics by raising the case of margaret dixon whose operation had been cancelled seven times which grabbed headlines for the party two weeks ago and he hit back at labour claims he had used mrs dixon as a human shield she s not a human shield mr blair she s a human being mr howard said his party plans for immigration quotas which have also been the focus of much media coverage were not racist just common sense  0.12136945\n"
     ]
    }
   ],
   "source": [
    "sims = index[vec]\n",
    "sims_tf = index_tf[vec_tf]\n",
    "sims = sorted(enumerate(sims), key=lambda item: -item[1])\n",
    "sims_tf = sorted(enumerate(sims_tf), key=lambda item: -item[1])\n",
    "print(\"Q:\", q)\n",
    "\n",
    "for i in sims[:5]:\n",
    "    print('doc', i[0], text_list[i[0]], i[1])\n",
    "\n",
    "print('-'*340)\n",
    "\n",
    "for i in sims_tf[:5]:\n",
    "    print('doc', i[0], text_list[i[0]], i[1])"
   ]
  },
  {
   "cell_type": "markdown",
   "metadata": {},
   "source": [
    "##### $idf$ формируется как натуральный логарифм для отношения общего количества документов (строк) к тому количеству документов (строк), в которых есть данное слово"
   ]
  },
  {
   "cell_type": "markdown",
   "metadata": {},
   "source": [
    "#### **Задание 2 (0.5 поинтов для домашнего задания)**\n",
    "1. Возьмите любую одну новостную статью из датасета Bbс (в папке data) по любой тематике.\n",
    "2. Проведите препроцессинг текстового документа и разбейте статью на предложения.\n",
    "3. Рассчитайте TF-IDF вектора из списка ваших предложений (то есть вместо документа будут предлоежния).\n",
    "4. Рассчитайте метрику (например среднее значение ненулевых элементов в TF-IDF векторе)\n",
    "5. Отсортируйте каждое предложение по метрике (т.е. постройте индекс)\n",
    "6. Выведите топ 5 предложений, которые и будут финальным решением Extract-Based Summarization подхода."
   ]
  },
  {
   "cell_type": "code",
   "execution_count": 173,
   "metadata": {},
   "outputs": [],
   "source": [
    "file = open('politics/001.txt', 'r')\n",
    "article = file.read()\n",
    "file.close()\n",
    "article = article.split('.')[:-1]"
   ]
  },
  {
   "cell_type": "code",
   "execution_count": 174,
   "metadata": {},
   "outputs": [],
   "source": [
    "for i in range(len(article)):\n",
    "    article[i] = article[i].lower()\n",
    "    article[i] = re.sub('[^a-z ]', ' ', article[i])\n",
    "    article[i] = re.sub('\\s+', ' ', article[i])"
   ]
  },
  {
   "cell_type": "code",
   "execution_count": 175,
   "metadata": {},
   "outputs": [],
   "source": [
    "article_words = [[word for word in subarticle.split() if word not in stopwords] for subarticle in article]"
   ]
  },
  {
   "cell_type": "code",
   "execution_count": 176,
   "metadata": {},
   "outputs": [],
   "source": [
    "dictionary_article = corpora.Dictionary(article_words)\n",
    "\n",
    "corpus_article = [dictionary_article.doc2bow(text) for text in article_words]\n",
    "\n",
    "tfidf_article = models.TfidfModel(corpus_article)"
   ]
  },
  {
   "cell_type": "code",
   "execution_count": 177,
   "metadata": {},
   "outputs": [
    {
     "name": "stdout",
     "output_type": "stream",
     "text": [
      "[(6, 0.18384201320076796), (15, 0.337535675630588), (16, 0.337535675630588), (17, 0.2157363298557076), (18, 0.337535675630588), (19, 0.13888949864079758), (20, 0.2157363298557076), (21, 0.2157363298557076), (22, 0.2157363298557076), (23, 0.337535675630588), (24, 0.337535675630588), (25, 0.337535675630588), (26, 0.27777899728159516)]\n"
     ]
    }
   ],
   "source": [
    "print(tfidf_article[corpus_article[2]])"
   ]
  },
  {
   "cell_type": "code",
   "execution_count": 178,
   "metadata": {},
   "outputs": [],
   "source": [
    "extract_based_summarization = []\n",
    "for i in tfidf_article[corpus_article]:\n",
    "    line_av = 0\n",
    "    for c in i:\n",
    "        line_av += c[1]\n",
    "    extract_based_summarization.append(line_av/len(i))"
   ]
  },
  {
   "cell_type": "code",
   "execution_count": 179,
   "metadata": {},
   "outputs": [],
   "source": [
    "sorted_article = [x for _, x in sorted(zip(extract_based_summarization, article))]"
   ]
  },
  {
   "cell_type": "code",
   "execution_count": 180,
   "metadata": {},
   "outputs": [
    {
     "data": {
      "text/plain": [
       "[' she said ministers would consult on other proposals that could see fathers being allowed to take some of their partner s maternity pay or leave period or extending the rights of flexible working to carers or parents of older children',\n",
       " ' the shadow secretary of state for the family theresa may said these plans were announced by gordon brown in his pre budget review in december and tony blair is now recycling it in his desperate bid to win back women voters',\n",
       " ' while the majority of any salary costs may be covered by the government s statutory pay recruitment costs advertising costs retraining costs and the strain on the company will not be he said',\n",
       " ' liberal democrat spokeswoman for women sandra gidley said while mothers would welcome any extra maternity pay the liberal democrats feel this money is being misdirected',\n",
       " ' she said her party would boost maternity pay in the first six months to allow more women to stay at home in that time']"
      ]
     },
     "execution_count": 180,
     "metadata": {},
     "output_type": "execute_result"
    }
   ],
   "source": [
    "sorted_article[:5]"
   ]
  },
  {
   "cell_type": "code",
   "execution_count": null,
   "metadata": {},
   "outputs": [],
   "source": []
  }
 ],
 "metadata": {
  "kernelspec": {
   "display_name": "python_env",
   "language": "python",
   "name": "python3"
  },
  "language_info": {
   "codemirror_mode": {
    "name": "ipython",
    "version": 3
   },
   "file_extension": ".py",
   "mimetype": "text/x-python",
   "name": "python",
   "nbconvert_exporter": "python",
   "pygments_lexer": "ipython3",
   "version": "3.11.4"
  },
  "orig_nbformat": 4
 },
 "nbformat": 4,
 "nbformat_minor": 2
}
